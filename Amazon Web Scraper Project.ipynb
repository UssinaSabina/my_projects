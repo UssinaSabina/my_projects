{
 "cells": [
  {
   "cell_type": "code",
   "execution_count": 30,
   "id": "813c2da4",
   "metadata": {},
   "outputs": [],
   "source": [
    "# import libraries\n",
    "import requests\n",
    "from bs4 import BeautifulSoup\n",
    "import time\n",
    "import datetime\n",
    "import pandas as pd\n",
    "import csv\n",
    "\n",
    "import smtplib              # send emails"
   ]
  },
  {
   "cell_type": "code",
   "execution_count": 50,
   "id": "4954fef3",
   "metadata": {},
   "outputs": [],
   "source": [
    "# connect to the website\n",
    "URL = 'https://www.amazon.com/Kindle-Paperwhite-Essentials-Bundle-including/dp/B09FBYNC2J/ref=sr_1_14?crid=HOMW2YHJEAW2&keywords=e-readers&psr=EY17&qid=1669308826&s=black-friday&sprefix=e-readers%2Cblack-friday%2C196&sr=1-14'\n",
    "\n",
    "headers = {\"User-Agent\": \"Mozilla/5.0 (Windows NT 10.0; Win64; x64) AppleWebKit/537.36 (KHTML, like Gecko) Chrome/106.0.0.0 YaBrowser/22.11.0.2419 Yowser/2.5 Safari/537.36\",\n",
    "           \"Accept-Encoding\":\"gzip, deflate\",\n",
    "           \"Accept\":\"text/html,application/xhtml+xml,application/xml;q=0.9,*/*;q=0.8\",\n",
    "           \"DNT\":\"1\",\n",
    "           \"Connection\":\"close\", \n",
    "           \"Upgrade-Insecure-Requests\":\"1\"}\n",
    "\n",
    "wanted_price = 150                        # variable for check_price function\n",
    "\n",
    "page = requests.get(URL, headers=headers)"
   ]
  },
  {
   "cell_type": "code",
   "execution_count": 37,
   "id": "ddcf374c",
   "metadata": {},
   "outputs": [],
   "source": [
    "soup1 = BeautifulSoup(page.content, \"html.parser\")\n",
    "soup2 = BeautifulSoup(soup1.prettify(), \"html.parser\")\n",
    "\n",
    "title = soup2.find(id='productTitle').get_text().strip()\n",
    "title = title[: title.find(',')]\n",
    "price = soup2.find(id='price_inside_buybox').get_text().strip()[1:]\n",
    "today =datetime.date.today()"
   ]
  },
  {
   "cell_type": "code",
   "execution_count": 38,
   "id": "416d3d69",
   "metadata": {},
   "outputs": [],
   "source": [
    "header = ['title', 'price', 'date']\n",
    "data = [title, price, today]\n",
    "with open('amazon_web_scraper_dataset.csv', 'w', newline='', encoding='UTF8') as f:\n",
    "    writer = csv.writer(f, dialect='excel')\n",
    "    writer.writerow(header)        #inserting the header\n",
    "    writer.writerow(data)          # inserting the data\n",
    "    "
   ]
  },
  {
   "cell_type": "code",
   "execution_count": 42,
   "id": "09d1a8e9",
   "metadata": {},
   "outputs": [
    {
     "data": {
      "text/html": [
       "<div>\n",
       "<style scoped>\n",
       "    .dataframe tbody tr th:only-of-type {\n",
       "        vertical-align: middle;\n",
       "    }\n",
       "\n",
       "    .dataframe tbody tr th {\n",
       "        vertical-align: top;\n",
       "    }\n",
       "\n",
       "    .dataframe thead th {\n",
       "        text-align: right;\n",
       "    }\n",
       "</style>\n",
       "<table border=\"1\" class=\"dataframe\">\n",
       "  <thead>\n",
       "    <tr style=\"text-align: right;\">\n",
       "      <th></th>\n",
       "      <th>title</th>\n",
       "      <th>price</th>\n",
       "      <th>date</th>\n",
       "    </tr>\n",
       "  </thead>\n",
       "  <tbody>\n",
       "    <tr>\n",
       "      <th>0</th>\n",
       "      <td>Kindle Paperwhite Essentials Bundle including ...</td>\n",
       "      <td>126.97</td>\n",
       "      <td>2022-11-24</td>\n",
       "    </tr>\n",
       "  </tbody>\n",
       "</table>\n",
       "</div>"
      ],
      "text/plain": [
       "                                               title   price        date\n",
       "0  Kindle Paperwhite Essentials Bundle including ...  126.97  2022-11-24"
      ]
     },
     "execution_count": 42,
     "metadata": {},
     "output_type": "execute_result"
    }
   ],
   "source": [
    "df = pd.read_csv('amazon_web_scraper_dataset.csv')\n",
    "df"
   ]
  },
  {
   "cell_type": "code",
   "execution_count": 51,
   "id": "123d2a48",
   "metadata": {},
   "outputs": [],
   "source": [
    "def check_price(URL, wanted_price):\n",
    "    \n",
    "    headers = {\"User-Agent\": \"Mozilla/5.0 (Windows NT 10.0; Win64; x64) AppleWebKit/537.36 (KHTML, like Gecko) Chrome/106.0.0.0 YaBrowser/22.11.0.2419 Yowser/2.5 Safari/537.36\",\n",
    "    \"Accept-Encoding\":\"gzip, deflate\",\n",
    "    \"Accept\":\"text/html,application/xhtml+xml,application/xml;q=0.9,*/*;q=0.8\",\n",
    "    \"DNT\":\"1\",\n",
    "    \"Connection\":\"close\", \n",
    "    \"Upgrade-Insecure-Requests\":\"1\"}\n",
    "\n",
    "    page = requests.get(URL, headers=headers)\n",
    "    \n",
    "    soup1 = BeautifulSoup(page.content, \"html.parser\")\n",
    "    soup2 = BeautifulSoup(soup1.prettify(), \"html.parser\")\n",
    "\n",
    "    title = soup2.find(id='productTitle').get_text().strip()\n",
    "    title = title[: title.find(',')]\n",
    "    \n",
    "    price = float(soup2.find(id='price_inside_buybox').get_text().strip()[1:])\n",
    "    \n",
    "    today = datetime.date.today()\n",
    "    \n",
    "    header = ['title', 'price', 'date']\n",
    "    data = [title, price, today]\n",
    "    \n",
    "    # appending data to the csv\n",
    "    with open('amazon_web_scraper_dataset.csv', 'a+', newline='', encoding='UTF8') as f:\n",
    "        writer = csv.writer(f, dialect='excel')        \n",
    "        writer.writerow(data) \n",
    "        \n",
    "    # sending mails\n",
    "    if price < wanted_price:\n",
    "        send_mail()"
   ]
  },
  {
   "cell_type": "code",
   "execution_count": 47,
   "id": "7142d659",
   "metadata": {},
   "outputs": [
    {
     "ename": "KeyboardInterrupt",
     "evalue": "",
     "output_type": "error",
     "traceback": [
      "\u001b[1;31m---------------------------------------------------------------------------\u001b[0m",
      "\u001b[1;31mKeyboardInterrupt\u001b[0m                         Traceback (most recent call last)",
      "\u001b[1;32m~\\AppData\\Local\\Temp/ipykernel_11152/1780465071.py\u001b[0m in \u001b[0;36m<module>\u001b[1;34m\u001b[0m\n\u001b[0;32m      1\u001b[0m \u001b[1;32mwhile\u001b[0m\u001b[1;33m(\u001b[0m\u001b[1;32mTrue\u001b[0m\u001b[1;33m)\u001b[0m\u001b[1;33m:\u001b[0m\u001b[1;33m\u001b[0m\u001b[1;33m\u001b[0m\u001b[0m\n\u001b[0;32m      2\u001b[0m     \u001b[0mcheck_price\u001b[0m\u001b[1;33m(\u001b[0m\u001b[1;33m)\u001b[0m\u001b[1;33m\u001b[0m\u001b[1;33m\u001b[0m\u001b[0m\n\u001b[1;32m----> 3\u001b[1;33m     \u001b[0mtime\u001b[0m\u001b[1;33m.\u001b[0m\u001b[0msleep\u001b[0m\u001b[1;33m(\u001b[0m\u001b[1;36m10\u001b[0m\u001b[1;33m)\u001b[0m\u001b[1;33m\u001b[0m\u001b[1;33m\u001b[0m\u001b[0m\n\u001b[0m",
      "\u001b[1;31mKeyboardInterrupt\u001b[0m: "
     ]
    }
   ],
   "source": [
    "while(True):\n",
    "    check_price()\n",
    "    time.sleep(86400)        # check price every day "
   ]
  },
  {
   "cell_type": "code",
   "execution_count": 48,
   "id": "979dd90d",
   "metadata": {},
   "outputs": [
    {
     "data": {
      "text/html": [
       "<div>\n",
       "<style scoped>\n",
       "    .dataframe tbody tr th:only-of-type {\n",
       "        vertical-align: middle;\n",
       "    }\n",
       "\n",
       "    .dataframe tbody tr th {\n",
       "        vertical-align: top;\n",
       "    }\n",
       "\n",
       "    .dataframe thead th {\n",
       "        text-align: right;\n",
       "    }\n",
       "</style>\n",
       "<table border=\"1\" class=\"dataframe\">\n",
       "  <thead>\n",
       "    <tr style=\"text-align: right;\">\n",
       "      <th></th>\n",
       "      <th>title</th>\n",
       "      <th>price</th>\n",
       "      <th>date</th>\n",
       "    </tr>\n",
       "  </thead>\n",
       "  <tbody>\n",
       "    <tr>\n",
       "      <th>0</th>\n",
       "      <td>Kindle Paperwhite Essentials Bundle including ...</td>\n",
       "      <td>126.97</td>\n",
       "      <td>2022-11-24</td>\n",
       "    </tr>\n",
       "    <tr>\n",
       "      <th>1</th>\n",
       "      <td>Kindle Paperwhite Essentials Bundle including ...</td>\n",
       "      <td>126.97</td>\n",
       "      <td>2022-11-24</td>\n",
       "    </tr>\n",
       "    <tr>\n",
       "      <th>2</th>\n",
       "      <td>Kindle Paperwhite Essentials Bundle including ...</td>\n",
       "      <td>126.97</td>\n",
       "      <td>2022-11-24</td>\n",
       "    </tr>\n",
       "    <tr>\n",
       "      <th>3</th>\n",
       "      <td>Kindle Paperwhite Essentials Bundle including ...</td>\n",
       "      <td>126.97</td>\n",
       "      <td>2022-11-24</td>\n",
       "    </tr>\n",
       "    <tr>\n",
       "      <th>4</th>\n",
       "      <td>Kindle Paperwhite Essentials Bundle including ...</td>\n",
       "      <td>126.97</td>\n",
       "      <td>2022-11-24</td>\n",
       "    </tr>\n",
       "    <tr>\n",
       "      <th>5</th>\n",
       "      <td>Kindle Paperwhite Essentials Bundle including ...</td>\n",
       "      <td>126.97</td>\n",
       "      <td>2022-11-24</td>\n",
       "    </tr>\n",
       "    <tr>\n",
       "      <th>6</th>\n",
       "      <td>Kindle Paperwhite Essentials Bundle including ...</td>\n",
       "      <td>126.97</td>\n",
       "      <td>2022-11-24</td>\n",
       "    </tr>\n",
       "  </tbody>\n",
       "</table>\n",
       "</div>"
      ],
      "text/plain": [
       "                                               title   price        date\n",
       "0  Kindle Paperwhite Essentials Bundle including ...  126.97  2022-11-24\n",
       "1  Kindle Paperwhite Essentials Bundle including ...  126.97  2022-11-24\n",
       "2  Kindle Paperwhite Essentials Bundle including ...  126.97  2022-11-24\n",
       "3  Kindle Paperwhite Essentials Bundle including ...  126.97  2022-11-24\n",
       "4  Kindle Paperwhite Essentials Bundle including ...  126.97  2022-11-24\n",
       "5  Kindle Paperwhite Essentials Bundle including ...  126.97  2022-11-24\n",
       "6  Kindle Paperwhite Essentials Bundle including ...  126.97  2022-11-24"
      ]
     },
     "execution_count": 48,
     "metadata": {},
     "output_type": "execute_result"
    }
   ],
   "source": [
    "df = pd.read_csv('amazon_web_scraper_dataset.csv')\n",
    "df"
   ]
  },
  {
   "cell_type": "code",
   "execution_count": 49,
   "id": "60313722",
   "metadata": {},
   "outputs": [],
   "source": [
    "# send mail when a price hits below a certain level\n",
    "\n",
    "def send_mail():\n",
    "    server = smtplib.SMTP_SSL('smtp.gmail.com', 465)\n",
    "    server.ehlo()\n",
    "    server.starttls()\n",
    "    server.ehlo()\n",
    "    server.login('learning0smtplib@gmail.com', '01081986d')\n",
    "    \n",
    "    message = f\"The product that you want is now below {wanted_price}!\"\n",
    "    server.sendmail('learning0smtplib@gmail.com', message)"
   ]
  },
  {
   "cell_type": "code",
   "execution_count": null,
   "id": "33add5f4",
   "metadata": {},
   "outputs": [],
   "source": []
  }
 ],
 "metadata": {
  "kernelspec": {
   "display_name": "Python 3 (ipykernel)",
   "language": "python",
   "name": "python3"
  },
  "language_info": {
   "codemirror_mode": {
    "name": "ipython",
    "version": 3
   },
   "file_extension": ".py",
   "mimetype": "text/x-python",
   "name": "python",
   "nbconvert_exporter": "python",
   "pygments_lexer": "ipython3",
   "version": "3.9.7"
  }
 },
 "nbformat": 4,
 "nbformat_minor": 5
}
